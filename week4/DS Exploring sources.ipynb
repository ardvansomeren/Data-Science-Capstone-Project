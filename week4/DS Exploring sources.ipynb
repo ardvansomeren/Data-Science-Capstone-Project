{
 "cells": [
  {
   "cell_type": "markdown",
   "metadata": {},
   "source": [
    "# Data Science Capstone Project"
   ]
  },
  {
   "cell_type": "markdown",
   "metadata": {},
   "source": [
    "*Exploring sources*\n",
    "\n",
    "<img src='https://www.thorax.nl/wp-content/uploads/2014/02/Eindhoven-logo-SpotCompanion_1_1600x1600.png' width=200>"
   ]
  },
  {
   "cell_type": "markdown",
   "metadata": {},
   "source": [
    "## Capstone Assignment"
   ]
  },
  {
   "cell_type": "markdown",
   "metadata": {},
   "source": [
    "### First week\n",
    "\n",
    "For the first week, you will required to submit the following:\n",
    "\n",
    "1. A description of the problem and a discussion of the background. (15 marks)\n",
    "2. A description of the data and how it will be used to solve the problem. (15 marks)\n",
    "\n",
    "### Second week\n",
    "\n",
    "For the second week, the final deliverables of the project will be:\n",
    "\n",
    "3. A link to your Notebook on your Github repository, showing your code. (15 marks)\n",
    "4. A full report consisting of all of the following components (15 marks):\n",
    "\n",
    "  * Introduction where you discuss the business problem and who would be interested in this project.\n",
    "  * Data where you describe the data that will be used to solve the problem and the source of the data.\n",
    "  * Methodology section which represents the main component of the report where you discuss and describe any exploratory data analysis that you did, any inferential statistical testing that you performed, and what machine learnings were used and why.\n",
    "  * Results section where you discuss the results.\n",
    "  * Discussion section where you discuss any observations you noted and any recommendations you can make based on the results.\n",
    "  * Conclusion section where you conclude the report.\n",
    "  \n",
    "\n",
    "5. Your choice of a presentation or blogpost. (10 marks)\n",
    "\n",
    "---"
   ]
  },
  {
   "cell_type": "markdown",
   "metadata": {},
   "source": [
    "## Eindhoven - Not Attractive enough\n",
    "\n",
    "*A description of the problem and a discussion of the background*"
   ]
  },
  {
   "cell_type": "markdown",
   "metadata": {},
   "source": [
    "### History\n",
    "\n",
    "[Eindhoven](#ehv) is a middle-sized city in the south of The Netherlands. \n",
    "The city is not particularly large, 88.87 km2, 7 districts and 20 neighborhoods. Around 230,000 people live and work in the city of Eindhoven. This makes it the 5th city in the Netherlands.\n",
    "\n",
    "The city originated in the 13th century. In 1232 City rights where granted and only Utrecht as one of the 4 biggest cities of the Netherlands was granted city rights earlier (1122). Eindhoven did not become part of the Netherlands until 1629. Eindhoven remained a minor city until the start of the industrial revolution.\n",
    "\n",
    "The industrial revolution of the 19th century provided a major growth impulse. Industrial activities initially centred around tobacco and textiles and boomed with the rise of lighting and electronics giant Philips, which was founded as a light bulb manufacturing company in Eindhoven in 1891. Industrialisation brought population growth to Eindhoven. On the establishment of the Kingdom of the Netherlands in 1815, Eindhoven had 2,310 inhabitants. By 1920, the population was 47,946; by 1925 it was 63,870 and in 1935 that had ballooned to 103,030.\n",
    "\n",
    "Philips' presence is probably the largest single contributing factor to the major growth of Eindhoven in the 20th century. The early 20th century saw additions in technical industry with the advent of car and truck manufacturing company Van Doorne's Automobiel Fabriek (DAF) and the subsequent shift towards electronics and engineering, with the traditional tobacco and textile industries waning and finally disappearing in the 1970s.\n",
    "\n",
    "It attracted and spun off many hi-tech companies, making Eindhoven a major technology and industrial hub. In 2005, a full third of the total amount of money spent on research in the Netherlands was spent in or around Eindhoven. A quarter of the jobs in the region are in technology and ICT.\n",
    "\n",
    "As of May 2018, the population of Eindhoven consisted of 229.637 persons (according to the [CBS](#cbs)). Of these, 29.5% or some 63,873 people are of foreign descent."
   ]
  },
  {
   "cell_type": "code",
   "execution_count": null,
   "metadata": {},
   "outputs": [],
   "source": [
    "# (DH 1806, R 1340, U 1122, A 1300 / 1306)"
   ]
  },
  {
   "cell_type": "markdown",
   "metadata": {},
   "source": [
    "### Why choose this relative small city to explore for my capstone project?\n",
    "*Highlighting the challenge*\n",
    "\n",
    "#### Brainport - something is going on in Eindhoven.\n",
    "\n",
    "The early nineties were disastrous for Eindhoven, both economically and socially. Lot's of people working at Philips and DAF lost their jobs, and even [the headquarter of Philips moved](#art1) (1998) from Eindhoven to the Captial of the Netherlands - Amsterdam. The relatively high unemployment in the city caused young people to leave. Eindhoven had a boring image.\n",
    "\n",
    "But [Eindhoven recovered](#art1). Changes where fueled by Philips and the high tech spin offs like NXP and ASML. Together with companies like Thalens and VDL they were responsible for 1/3 of the total research and development investments in the Netherlands in 2015. The former physics laboratories of Philips are transformed to a [high tech campus](#art2) with more 11.000 highly educated people from all over the world working for 160 companies. This small area is responsible for the biggest economic growth in the province, even more than the contribution of the four bigger cities in the north west of the Netherlands.\n",
    "\n",
    "Those people live in Eindhoven and the surrounding cities. They have to build a live with their families. The captains of industries of Eindhoven, together with the mayor stated at the prime minister of the Netherlands in 2015: Eindhoven needs those highly educated people. The city must be attractive to these sought-after people. The government is investing a 100 times more in the cultural development of the 4 big cities than they do invest in the Eindhoven area. The most urgent request of these captains of industry and their mayor was to restore the skewed contribution to cultural development of the city and help to make EIndhoven more attractive.\n",
    "\n",
    "#### Eindhoven, my town\n",
    "\n",
    "What did Eindhoven to become a more attractive city to these highly educated people? The economic infrastructure is well developed with the high tech campus on one end and the University of technology on the other hand. But also the face of Eindhoven has changed dramatically in the last 20 years. The high tech campus was developed by entrepreneurs, but the more noticeable changes have taken place in the center of the city. It was a [housing association](#art4) that developed the former Philips factories to the vibrant area StrijpS for living, art and culture.\n",
    "\n",
    "So is their then a urgent need to develop the attractiveness of the city? Are these highly educated people drawn to the city by other reasons than only their job? Do these people feel connected to the city? Are they using the facilities, adding to the culture of the city? Or is [a lot of talent and capacity wasted](#art3)?\n",
    "\n",
    "I happen to live in Eindhoven and I experienced first hand the changes in the last 20 years. The city has changed for the best, but there is still a lot of work to be done. One of the questions I am interested in: **is the city of Eindhoven attractive enough?**"
   ]
  },
  {
   "cell_type": "markdown",
   "metadata": {},
   "source": [
    "### Scope of the project\n",
    "\n",
    "When exploring the availability of information to get a clear idea of what challenge to invesitgate I stumbled upon a report called [Skills and cities](#skills): Implications of location preferences of highly educated workers for spation development of metropolitan areas. I'm not aiming to rewrite this 278 pages report from 2016. described in the following abstract, however it descibes perfectly the challenge of the city in their task to enable the industry with the most valueable source of all: **people and their skills.**\n",
    "\n",
    ">*Creative industries have become fundamental in signalling the economic wellbeing of cities and urban regions. Workers who are attracted to the sector tend to have strong preferences when it comes to the neighbourhoods they want to live in, with factors such as job availability and urban amenities playing a large part in their decision.\n",
    "Skills and Cities analyses these factors and looks at the implications for urban and regional policy across a range of European cities. Drawing conclusions from the Netherlands and Scandinavian cities Copenhagen and Helsinki, this book sheds new light on the debate about the importance of jobs and urban amenities for attracting high-skilled employees.*\n",
    "\n",
    "In this project I will focus on just a small part. **Do cultural activities and the presence of facilities have a positive influence on the well-being of the inhabitants.**"
   ]
  },
  {
   "cell_type": "markdown",
   "metadata": {},
   "source": [
    "---"
   ]
  },
  {
   "cell_type": "markdown",
   "metadata": {},
   "source": [
    "### Exploring data sources\n",
    "\n",
    "*A description of the data and how it will be used to solve the problem*\n",
    "\n",
    "Following (Open) data sources amongst others are explored and used to analyze and visualize the data:\n",
    "\n",
    "1. <a name=\"cbs\"><a href=\"https://statline.cbs.nl/\">CBS statline</a> - Dutch Central Statistical Office\n",
    "2. <a name=\"ehvod\"><a href=\"https://data.eindhoven.nl/pages/home/\">Eindhoven Opendata</a> - City monitor data\n",
    "3. <a name=\"fs\"><a Href=\"https://foursquare.com/city-guide\">Foursquare</a> - One of the possible social media platforms for location data and check in service\n",
    "  \n",
    "#### Some other sources used for exploring data, background discussion and inspiration for the project\n",
    "\n",
    "  * <a name=\"ehv\"></a><a Href=\"https://en.wikipedia.org/wiki/Eindhoven\">Eindhoven Wikipedia</a>\n",
    "  * <a name=\"skills\"></a><a Href=\"http://www.verdus.nl/nieuwsitem.aspx?id=2503\">Skills and cities: Implications of location preferences of highly educated workers for spation development of metropolitan areas</a>\n",
    "  * <a Href=\"https://financieel.infonu.nl/geld/178338-huizenmarkt-eindhoven-prijzen-per-m-en-wijk-in-2016-2017.html\">Article InfoNu - The housing market in Eindhoven:: prices per m² and district in 2016 and 2017</a>\n",
    "  * <a name=\"art1\"></a><a Href=\"https://www.nrc.nl/nieuws/2017/11/03/wederopstanding-dankzij-de-erfenis-van-philips-13816287-a1579733\">Article NRC - The resurrection of Eindhoven, built on Philips DNA (nov 2017 Dutch)</a>\n",
    "  * <a name=\"art2\"><a Href=\"https://www.nrc.nl/nieuws/2017/11/03/dit-is-het-silicon-valley-van-nederland-13836265-a1579896\">Article NRC - This is the Silicon Valley of the Netherlands (nov 2017 Dutch)</a>\n",
    "  * <a name=\"art3\"><a Href=\"https://www.nrc.nl/nieuws/2017/11/03/een-ideale-plek-maar-bijna-niemand-komt-buiten-13835541-a1579892\">Article NRC - A bustling city, but it is quiet in the expat neighborhood (nov 2017 Dutch)</a>\n",
    "  * <a name=\"art4\"><a Href=\"https://www.nrc.nl/nieuws/2017/11/03/pas-op-het-is-hier-geen-limburg-he-13837296-a1579923\">Article NRC - Watch out, it's not Limburg here (nov 2017 Dutch)</a>"
   ]
  },
  {
   "cell_type": "code",
   "execution_count": 4,
   "metadata": {},
   "outputs": [],
   "source": [
    "#https://eindhoven.incijfers.nl/jive\n",
    "#https://www.linkedin.com/pulse/housing-sales-prices-venues-data-analysis-ofistanbul-sercan-y%C4%B1ld%C4%B1z/"
   ]
  },
  {
   "cell_type": "markdown",
   "metadata": {},
   "source": [
    "I'll use the statistical information form the [CBS](#cbs) to investigate the well being of people in the different regions in Eindhoven. The [Eindhoven Opendate](#ehvod) will provide me with the specific information (safety, demographics etc) of the city regions and the geo information. [Foursquare](#fs) or another social checkin platform will be used to investigate the events in the city."
   ]
  },
  {
   "cell_type": "code",
   "execution_count": null,
   "metadata": {},
   "outputs": [],
   "source": []
  },
  {
   "cell_type": "code",
   "execution_count": null,
   "metadata": {},
   "outputs": [],
   "source": []
  }
 ],
 "metadata": {
  "kernelspec": {
   "display_name": "Python 3",
   "language": "python",
   "name": "python3"
  },
  "language_info": {
   "codemirror_mode": {
    "name": "ipython",
    "version": 3
   },
   "file_extension": ".py",
   "mimetype": "text/x-python",
   "name": "python",
   "nbconvert_exporter": "python",
   "pygments_lexer": "ipython3",
   "version": "3.6.8"
  }
 },
 "nbformat": 4,
 "nbformat_minor": 2
}
